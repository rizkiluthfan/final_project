{
 "cells": [
  {
   "cell_type": "markdown",
   "metadata": {},
   "source": [
    "import libary"
   ]
  },
  {
   "cell_type": "code",
   "execution_count": 1,
   "metadata": {},
   "outputs": [],
   "source": [
    "import pandas as pd\n",
    "import numpy as np\n",
    "import seaborn as sns\n",
    "import matplotlib.pyplot as plt\n",
    "import joblib\n",
    "\n",
    "from sklearn.metrics import classification_report, precision_score, recall_score, f1_score, accuracy_score\n",
    "\n",
    "from sklearn.model_selection import train_test_split\n",
    "from sklearn.linear_model import LogisticRegression\n",
    "from sklearn.preprocessing import LabelEncoder, RobustScaler\n",
    "from sklearn.model_selection import RandomizedSearchCV\n",
    "from sklearn.metrics import confusion_matrix\n",
    "\n",
    "import warnings\n",
    "warnings.filterwarnings('ignore')"
   ]
  },
  {
   "cell_type": "markdown",
   "metadata": {},
   "source": [
    "rubah dataset"
   ]
  },
  {
   "cell_type": "code",
   "execution_count": 2,
   "metadata": {},
   "outputs": [],
   "source": [
    "df = pd.read_csv('datasets_IBM_clean_ready.csv')"
   ]
  },
  {
   "cell_type": "code",
   "execution_count": 3,
   "metadata": {},
   "outputs": [
    {
     "data": {
      "text/plain": [
       "(1470, 8)"
      ]
     },
     "execution_count": 3,
     "metadata": {},
     "output_type": "execute_result"
    }
   ],
   "source": [
    "df_final = df[['MonthlyIncome',\n",
    "               'OverTime',\n",
    "               'YearsWithCurrManager',\n",
    "               'Age',\n",
    "               'DistanceFromHome',\n",
    "               'TotalWorkingYears',\n",
    "               'YearsAtCompany',\n",
    "               'Attrition'      \n",
    "         ]]\n",
    "df_final.shape"
   ]
  },
  {
   "cell_type": "code",
   "execution_count": 4,
   "metadata": {},
   "outputs": [],
   "source": [
    "df.to_html('dataset_clean.html')"
   ]
  },
  {
   "cell_type": "markdown",
   "metadata": {},
   "source": [
    "split data"
   ]
  },
  {
   "cell_type": "code",
   "execution_count": 5,
   "metadata": {},
   "outputs": [],
   "source": [
    "x = df_final.drop(columns='Attrition')\n",
    "y = df_final['Attrition']\n",
    "\n",
    "x_train, x_test, y_train, y_test = train_test_split(x, y, test_size = 0.20, random_state =False)"
   ]
  },
  {
   "cell_type": "code",
   "execution_count": 6,
   "metadata": {},
   "outputs": [],
   "source": [
    "#applying model Logistic Regression with hyperparameter\n",
    "logre_top = LogisticRegression(solver = 'saga', penalty = 'none', max_iter = 10, class_weight = 'balanced').fit(x_train, y_train)"
   ]
  },
  {
   "cell_type": "code",
   "execution_count": 7,
   "metadata": {},
   "outputs": [],
   "source": [
    "#Logistic Regression\n",
    "logre_pred_top = logre_top.predict(x_test)"
   ]
  },
  {
   "cell_type": "code",
   "execution_count": 8,
   "metadata": {},
   "outputs": [
    {
     "data": {
      "text/plain": [
       "array([[169,  76],\n",
       "       [ 14,  35]], dtype=int64)"
      ]
     },
     "execution_count": 8,
     "metadata": {},
     "output_type": "execute_result"
    }
   ],
   "source": [
    "#confusion matrix\n",
    "conmat_logre_top = confusion_matrix(y_test, logre_pred_top)\n",
    "conmat_logre_top"
   ]
  },
  {
   "cell_type": "markdown",
   "metadata": {},
   "source": [
    "evaluasi model"
   ]
  },
  {
   "cell_type": "code",
   "execution_count": 9,
   "metadata": {},
   "outputs": [],
   "source": [
    "labels = ['Negatif', 'Positif']"
   ]
  },
  {
   "cell_type": "code",
   "execution_count": 10,
   "metadata": {},
   "outputs": [
    {
     "name": "stdout",
     "output_type": "stream",
     "text": [
      "              precision    recall  f1-score   support\n",
      "\n",
      "     Negatif       0.92      0.69      0.79       245\n",
      "     Positif       0.32      0.71      0.44        49\n",
      "\n",
      "    accuracy                           0.69       294\n",
      "   macro avg       0.62      0.70      0.61       294\n",
      "weighted avg       0.82      0.69      0.73       294\n",
      "\n"
     ]
    },
    {
     "data": {
      "image/png": "[encoded data removed]",
      "text/plain": [
       "<Figure size 576x360 with 2 Axes>"
      ]
     },
     "metadata": {
      "needs_background": "light"
     },
     "output_type": "display_data"
    }
   ],
   "source": [
    "print(classification_report(y_test, logre_pred_top, target_names = labels))\n",
    "f, ax = plt.subplots(figsize=(8,5))\n",
    "sns.heatmap(conmat_logre_top, annot=True, fmt=\".0f\", ax=ax)\n",
    "\n",
    "ax.xaxis.set_ticklabels(labels)\n",
    "ax.yaxis.set_ticklabels(labels)\n",
    "\n",
    "plt.title('Logistic Regression with hyperparam')\n",
    "plt.xlabel(\"PREDICT\")\n",
    "plt.ylabel(\"ACTUAL\")\n",
    "plt.show()"
   ]
  },
  {
   "cell_type": "markdown",
   "metadata": {},
   "source": [
    "melihat kalsifikasi report dan visualisai confuse matrix"
   ]
  },
  {
   "cell_type": "code",
   "execution_count": 11,
   "metadata": {},
   "outputs": [
    {
     "name": "stdout",
     "output_type": "stream",
     "text": [
      "0.6981292517006803\n"
     ]
    }
   ],
   "source": [
    "print(logre_top.score(x_train,y_train))"
   ]
  },
  {
   "cell_type": "code",
   "execution_count": 12,
   "metadata": {},
   "outputs": [
    {
     "name": "stdout",
     "output_type": "stream",
     "text": [
      "0.6938775510204082\n"
     ]
    }
   ],
   "source": [
    "print(logre_top.score(x_test,y_test))"
   ]
  },
  {
   "cell_type": "code",
   "execution_count": 13,
   "metadata": {},
   "outputs": [],
   "source": [
    "robust = RobustScaler()"
   ]
  },
  {
   "cell_type": "code",
   "execution_count": 14,
   "metadata": {},
   "outputs": [
    {
     "data": {
      "text/plain": [
       "['final_scaler']"
      ]
     },
     "execution_count": 14,
     "metadata": {},
     "output_type": "execute_result"
    }
   ],
   "source": [
    "joblib.dump(logre_top, 'final_model')\n",
    "joblib.dump(robust, 'final_scaler')"
   ]
  },
  {
   "cell_type": "markdown",
   "metadata": {},
   "source": [
    "### conclusion"
   ]
  },
  {
   "attachments": {},
   "cell_type": "markdown",
   "metadata": {},
   "source": [
    "untuk sementara Logistic Regression adalah model terbaik yang punya nilai recall cukup bagus di banding model lainnya yang saya coba.\n",
    "\n",
    "Kita rangkum score dari model terakhir ini\n",
    "1. model ini tidak under maupun over kalu diliat dari score XY train dan test\n",
    "2. mempunyai tingkat akurasi cukup tinggi dibanding menggunakan model lain yaitu 69% | (TP+TN/TP+TN+FP+FN)204/294\n",
    "3. model memiliki nilai presision positif 32% & presision negatif 92%\n",
    "4. model memiliki nilai recall positif 71% dan recall negatif 69%\n",
    "\n",
    "dilihat dari sisi bisnis bagi perusahaan kita harus menghindari adanya salah prediksi yang menyatakan bahwa karyawan itu tidak keluar namun kenyataannya keluar, karna akan berimbas ke masalah biaya dan waktu dihabiskan untuk wawancara dan menemukan pengganti,  sementara karyawan baru harus terbiasa dengan peran barunya di perusahaan tersebut.\n",
    "https://www.americanprogress.org/wp-content/uploads/2012/11/CostofTurnover.pdf\n",
    "\n",
    "Indikator kuat karyawan pergi :\n",
    "* <b>Monthly Income</b> : Karyawan dengan upah rendah cenderung meninggalkan perusahaan. Oleh karena itu, upaya harus dilakukan untuk mengumpulkan informasi tentang tolak ukur industri di pasar lokal saat ini untuk menentukan apakah perusahaan memberikan upah yang kompetitif.\n",
    "* <b>Over Time</b> : Karyawan yang bekerja lembur lebih cenderung meninggalkan perusahaan. Oleh karena itu, berbagai upaya harus diambil untuk menjangkau scope projects secara tepat dengan dukungan dan tenaga yang memadai untuk mengurangi penggunaan lembur.\n",
    "* <b>Age</b> : Karyawan dengan kelompok usia yang relatif muda 25~35 lebih cenderung untuk pergi. Oleh karena itu, harus dilakukan upaya untuk mengartikulasikan dengan jelas visi jangka panjang perusahaan dan karyawan muda yang sesuai dengan visi tersebut, serta memberikan insentif dalam bentuk jalur yang jelas misalnya memberikan promosi atau bonus.\n",
    "* <b>YearsWithCurrManager</b> : jumlah karyawan di bawah asisten manajer yang menunjukkan tingkat turnover tinggi: ini dapat menunjukkan bahwa struktur organisasi mungkin perlu ditinjau kembali untuk meningkatkan efisiensi\n",
    "* <b>DistanceFromHome</b> : Karyawan yang tinggal jauh dari rumah lebih cenderung meninggalkan perusahaan. Oleh karena itu, harus dilakukan upaya untuk memberikan dukungan dalam bentuk transportasi perusahaan untuk sekelompok karyawan yang tinggal di daerah yang sama, atau dalam bentuk Tunjangan Transportasi.\n",
    "* <b>TotalWorkingYears</b> : Karyawan yang lebih berpengalaman cenderung tidak pergi. Namun Karyawan yang memiliki pengalaman antara 5-8 tahun harus diidentifikasi berpotensi memiliki risiko lebih tinggi untuk pergi.\n",
    "* <b>YearsAtCompany</b> : Karyawan yang merayakan peringatan dua tahun mereka harus diidentifikasi berpotensi memiliki risiko lebih tinggi untuk pergi.\n",
    "\n",
    "\n",
    "dalam kelompok katagori ini, Selain langkah-langkah yang disarankan untuk setiap fitur yang tercantum di atas, harus dibuatnya pertemuan secara langsung antara perwakilan HR dan karyawan. langkah ini dapat dimulai untuk karyawan berisiko menengah dan tinggi untuk membahas kondisi kerja di perushaan ini, dan juga melakukan pertemuan dengan Manajer dari masing-masing karyawan tersebut untuk membahas lingkungan kerja di dalam tim dan apakah langkah-langkah dapat diambil untuk memperbaikinya.\n"
   ]
  },
  {
   "cell_type": "code",
   "execution_count": null,
   "metadata": {},
   "outputs": [],
   "source": []
  }
 ],
 "metadata": {
  "kernelspec": {
   "display_name": "Python 3",
   "language": "python",
   "name": "python3"
  },
  "language_info": {
   "codemirror_mode": {
    "name": "ipython",
    "version": 3
   },
   "file_extension": ".py",
   "mimetype": "text/x-python",
   "name": "python",
   "nbconvert_exporter": "python",
   "pygments_lexer": "ipython3",
   "version": "3.7.6"
  }
 },
 "nbformat": 4,
 "nbformat_minor": 4
}
